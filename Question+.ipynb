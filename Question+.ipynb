{
 "cells": [
  {
   "cell_type": "markdown",
   "id": "b41cc342",
   "metadata": {},
   "source": [
    "# Question +\n",
    "- velog의 단점: 동기화가 느리다; 동기화알못 탈출하기"
   ]
  },
  {
   "cell_type": "markdown",
   "id": "a771a430",
   "metadata": {},
   "source": [
    "- id()의 반환값(객체)\n",
    "- is 연산자 내부, ==연산자 내부\n",
    "  - 객체 비교 함수와 특정 기호 문자를 연결시키는 방법이 궁금\n",
    "  - 파이썬의 연산자는 어떻게 되어있나(클래스,함수; 타 언어와의 차이점-원시 타입을 안쓰는 것처럼 원시연산자도 쓰지 않고 모든 걸 클래스,객체 내의 함수로 퉁치는 건가?)\n",
    "> https://docs.python.org/ko/3.11/library/operator.html"
   ]
  },
  {
   "cell_type": "markdown",
   "id": "5f50a23d",
   "metadata": {},
   "source": [
    "- C언어 내부, 어셈블러, 컴파일러의 구조\n",
    "  > https://velog.io/@msung99/%EC%8B%9C%EC%8A%A4%ED%85%9C-%ED%94%84%EB%A1%9C%EA%B7%B8%EB%9E%98%EB%B0%8D-3-2%EC%A3%BC%EC%B0%A8"
   ]
  },
  {
   "cell_type": "markdown",
   "id": "ecac29ff",
   "metadata": {},
   "source": [
    "- call by object reference"
   ]
  },
  {
   "cell_type": "markdown",
   "id": "181673fb",
   "metadata": {},
   "source": [
    "- 제너레이터(튜플형태) vs 리스트 컴프리헨션"
   ]
  },
  {
   "cell_type": "markdown",
   "id": "cc31d57b",
   "metadata": {},
   "source": [
    "- 정규표현식의 LowLevel"
   ]
  },
  {
   "cell_type": "markdown",
   "id": "3d6be11d",
   "metadata": {},
   "source": [
    "- 가상환경 설정 & LowLevel"
   ]
  },
  {
   "cell_type": "markdown",
   "id": "34639d10",
   "metadata": {},
   "source": [
    "- logging handler\n",
    "  - config parser, argparser"
   ]
  },
  {
   "cell_type": "markdown",
   "id": "73c79e7a",
   "metadata": {},
   "source": [
    "- github low level\n",
    "  - numpy \n",
    "  - cpython"
   ]
  },
  {
   "cell_type": "markdown",
   "id": "d210f943",
   "metadata": {},
   "source": [
    "- 자동 미분: https://ithwang.github.io/ml/dl-automatic-differentiation-python/\n",
    "- 꼬리 재귀: https://joooing.tistory.com/entry/%EC%9E%AC%EA%B7%80-%E2%86%92-%EA%BC%AC%EB%A6%AC-%EC%9E%AC%EA%B7%80-Tail-Recursion\n",
    "- 파이썬 자료구조 내부구조: https://kadensungbincho.tistory.com/59"
   ]
  },
  {
   "cell_type": "code",
   "execution_count": null,
   "id": "55581047",
   "metadata": {},
   "outputs": [],
   "source": []
  }
 ],
 "metadata": {
  "kernelspec": {
   "display_name": "Python 3 (ipykernel)",
   "language": "python",
   "name": "python3"
  },
  "language_info": {
   "codemirror_mode": {
    "name": "ipython",
    "version": 3
   },
   "file_extension": ".py",
   "mimetype": "text/x-python",
   "name": "python",
   "nbconvert_exporter": "python",
   "pygments_lexer": "ipython3",
   "version": "3.10.9"
  }
 },
 "nbformat": 4,
 "nbformat_minor": 5
}
