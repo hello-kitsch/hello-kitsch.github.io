{
 "cells": [
  {
   "cell_type": "markdown",
   "id": "438272f3",
   "metadata": {},
   "source": [
    "- 가장 일반적인 지도 학습 작업: 회귀(값 예측), 분류(클래스 예측)\n",
    "# MNIST\n",
    "- 손글씨 숫자 이미지 MNIST(레이블 되어 있음)\n",
    "- 사이킷런에서 제공하는 여러 헬퍼함수를 통해 유명한 데이터셋을 내려받을 수 있음(\\$HOME/scikit_learn_data 디렉터리에 캐싱)"
   ]
  },
  {
   "cell_type": "code",
   "execution_count": 1,
   "id": "195c248a",
   "metadata": {},
   "outputs": [
    {
     "data": {
      "text/plain": [
       "dict_keys(['data', 'target', 'frame', 'categories', 'feature_names', 'target_names', 'DESCR', 'details', 'url'])"
      ]
     },
     "execution_count": 1,
     "metadata": {},
     "output_type": "execute_result"
    }
   ],
   "source": [
    "from sklearn.datasets import fetch_openml\n",
    "\n",
    "mnist = fetch_openml('mnist_784', version=1, as_frame=False, parser=\"auto\")\n",
    "mnist.keys()"
   ]
  },
  {
   "cell_type": "markdown",
   "id": "95781981",
   "metadata": {},
   "source": [
    "> fetch_openml의 parser 매개변수: auto, pandas, liac-arff\n",
    "- 사이킷런에서 읽어들인 데이터셋들의 기본적인 딕셔너리 구조\n",
    "  - DESCR: 데이터셋을 설명\n",
    "  - data: 샘플이 하나의 행, 특성이 하나의 열로 구성된 배열\n",
    "  - target: 레이블 배열"
   ]
  },
  {
   "cell_type": "code",
   "execution_count": 2,
   "id": "095e62f0",
   "metadata": {},
   "outputs": [
    {
     "name": "stdout",
     "output_type": "stream",
     "text": [
      "(70000, 784) (70000,)\n"
     ]
    }
   ],
   "source": [
    "X, y = mnist[\"data\"], mnist[\"target\"]\n",
    "print(X.shape, y.shape) #28x28 픽셀 이미지 -> 784개의 특성 존재"
   ]
  },
  {
   "cell_type": "code",
   "execution_count": 3,
   "id": "0174e780",
   "metadata": {},
   "outputs": [
    {
     "data": {
      "image/png": "[encoded data removed]",
      "text/plain": [
       "<Figure size 640x480 with 1 Axes>"
      ]
     },
     "metadata": {},
     "output_type": "display_data"
    }
   ],
   "source": [
    "#데이터셋에서 이미지 하나를 확인 -> 샘플의 특성 벡터 추출, 이미지 사이즈로 크기 바꾸기, 맷플롯립의 imshow()함수 사용\n",
    "import matplotlib as mpl\n",
    "import matplotlib.pyplot as plt\n",
    "\n",
    "some_digit = X[0]\n",
    "some_digit_image = some_digit.reshape(28, 28)\n",
    "\n",
    "plt.imshow(some_digit_image, cmap=\"binary\")\n",
    "plt.axis(\"off\")\n",
    "plt.show()"
   ]
  },
  {
   "cell_type": "code",
   "execution_count": 4,
   "id": "11687397",
   "metadata": {},
   "outputs": [
    {
     "data": {
      "text/plain": [
       "'5'"
      ]
     },
     "execution_count": 4,
     "metadata": {},
     "output_type": "execute_result"
    }
   ],
   "source": [
    "#레이블 데이터셋에서 이미지 하나의 레이블을 확인\n",
    "y[0]"
   ]
  },
  {
   "cell_type": "code",
   "execution_count": 5,
   "id": "1e10789d",
   "metadata": {},
   "outputs": [],
   "source": [
    "#레이블의 데이터값을 변환(문자열->int)\n",
    "import numpy as np\n",
    "y = y.astype(np.uint8)"
   ]
  },
  {
   "cell_type": "code",
   "execution_count": 6,
   "id": "7cf269fb",
   "metadata": {},
   "outputs": [],
   "source": [
    "#데이터를 자세히 조사하기 전에 테스트 세트를 만들고 떼어놓기 -> MNIST는 숫자로 구분\n",
    "X_train, X_test, y_train, y_test = X[:60000], X[60000:], y[:60000], y[60000:]"
   ]
  },
  {
   "cell_type": "markdown",
   "id": "421495bc",
   "metadata": {},
   "source": [
    "- 훈련 세트의 순서를 랜덤하게 섞어놓기 -> 모든 교차 검증 폴드를 비슷하게 만듦\n",
    "  - 예외: 시계열 데이터\n",
    "  - 예시: SGD"
   ]
  },
  {
   "cell_type": "markdown",
   "id": "4087e188",
   "metadata": {},
   "source": [
    "# 이진 분류기(binary classifier) 훈련"
   ]
  },
  {
   "cell_type": "code",
   "execution_count": 7,
   "id": "3f60502f",
   "metadata": {},
   "outputs": [],
   "source": [
    "#분류 작업을 위한 타깃 벡터 만들기\n",
    "y_train_5 = (y_train == 5)\n",
    "y_test_5 = (y_test == 5)"
   ]
  },
  {
   "cell_type": "markdown",
   "id": "ed5787e0",
   "metadata": {},
   "source": [
    "- 확률적 경사 하강법(Stochastic Gradient Descent) 분류기\n",
    "  - 사이킷런의 SGDClassifier\n",
    "  - 매우 큰 데이터셋을 효율적으로 처리하는 장점(한번에 하나씩 훈련 샘플을 독립적으로 처리->온라인 학습)"
   ]
  },
  {
   "cell_type": "code",
   "execution_count": 8,
   "id": "17874e2f",
   "metadata": {},
   "outputs": [
    {
     "data": {
      "text/html": [
       "<style>#sk-container-id-1 {color: black;}#sk-container-id-1 pre{padding: 0;}#sk-container-id-1 div.sk-toggleable {background-color: white;}#sk-container-id-1 label.sk-toggleable__label {cursor: pointer;display: block;width: 100%;margin-bottom: 0;padding: 0.3em;box-sizing: border-box;text-align: center;}#sk-container-id-1 label.sk-toggleable__label-arrow:before {content: \"▸\";float: left;margin-right: 0.25em;color: #696969;}#sk-container-id-1 label.sk-toggleable__label-arrow:hover:before {color: black;}#sk-container-id-1 div.sk-estimator:hover label.sk-toggleable__label-arrow:before {color: black;}#sk-container-id-1 div.sk-toggleable__content {max-height: 0;max-width: 0;overflow: hidden;text-align: left;background-color: #f0f8ff;}#sk-container-id-1 div.sk-toggleable__content pre {margin: 0.2em;color: black;border-radius: 0.25em;background-color: #f0f8ff;}#sk-container-id-1 input.sk-toggleable__control:checked~div.sk-toggleable__content {max-height: 200px;max-width: 100%;overflow: auto;}#sk-container-id-1 input.sk-toggleable__control:checked~label.sk-toggleable__label-arrow:before {content: \"▾\";}#sk-container-id-1 div.sk-estimator input.sk-toggleable__control:checked~label.sk-toggleable__label {background-color: #d4ebff;}#sk-container-id-1 div.sk-label input.sk-toggleable__control:checked~label.sk-toggleable__label {background-color: #d4ebff;}#sk-container-id-1 input.sk-hidden--visually {border: 0;clip: rect(1px 1px 1px 1px);clip: rect(1px, 1px, 1px, 1px);height: 1px;margin: -1px;overflow: hidden;padding: 0;position: absolute;width: 1px;}#sk-container-id-1 div.sk-estimator {font-family: monospace;background-color: #f0f8ff;border: 1px dotted black;border-radius: 0.25em;box-sizing: border-box;margin-bottom: 0.5em;}#sk-container-id-1 div.sk-estimator:hover {background-color: #d4ebff;}#sk-container-id-1 div.sk-parallel-item::after {content: \"\";width: 100%;border-bottom: 1px solid gray;flex-grow: 1;}#sk-container-id-1 div.sk-label:hover label.sk-toggleable__label {background-color: #d4ebff;}#sk-container-id-1 div.sk-serial::before {content: \"\";position: absolute;border-left: 1px solid gray;box-sizing: border-box;top: 0;bottom: 0;left: 50%;z-index: 0;}#sk-container-id-1 div.sk-serial {display: flex;flex-direction: column;align-items: center;background-color: white;padding-right: 0.2em;padding-left: 0.2em;position: relative;}#sk-container-id-1 div.sk-item {position: relative;z-index: 1;}#sk-container-id-1 div.sk-parallel {display: flex;align-items: stretch;justify-content: center;background-color: white;position: relative;}#sk-container-id-1 div.sk-item::before, #sk-container-id-1 div.sk-parallel-item::before {content: \"\";position: absolute;border-left: 1px solid gray;box-sizing: border-box;top: 0;bottom: 0;left: 50%;z-index: -1;}#sk-container-id-1 div.sk-parallel-item {display: flex;flex-direction: column;z-index: 1;position: relative;background-color: white;}#sk-container-id-1 div.sk-parallel-item:first-child::after {align-self: flex-end;width: 50%;}#sk-container-id-1 div.sk-parallel-item:last-child::after {align-self: flex-start;width: 50%;}#sk-container-id-1 div.sk-parallel-item:only-child::after {width: 0;}#sk-container-id-1 div.sk-dashed-wrapped {border: 1px dashed gray;margin: 0 0.4em 0.5em 0.4em;box-sizing: border-box;padding-bottom: 0.4em;background-color: white;}#sk-container-id-1 div.sk-label label {font-family: monospace;font-weight: bold;display: inline-block;line-height: 1.2em;}#sk-container-id-1 div.sk-label-container {text-align: center;}#sk-container-id-1 div.sk-container {/* jupyter's `normalize.less` sets `[hidden] { display: none; }` but bootstrap.min.css set `[hidden] { display: none !important; }` so we also need the `!important` here to be able to override the default hidden behavior on the sphinx rendered scikit-learn.org. See: https://github.com/scikit-learn/scikit-learn/issues/21755 */display: inline-block !important;position: relative;}#sk-container-id-1 div.sk-text-repr-fallback {display: none;}</style><div id=\"sk-container-id-1\" class=\"sk-top-container\"><div class=\"sk-text-repr-fallback\"><pre>SGDClassifier(random_state=42)</pre><b>In a Jupyter environment, please rerun this cell to show the HTML representation or trust the notebook. <br />On GitHub, the HTML representation is unable to render, please try loading this page with nbviewer.org.</b></div><div class=\"sk-container\" hidden><div class=\"sk-item\"><div class=\"sk-estimator sk-toggleable\"><input class=\"sk-toggleable__control sk-hidden--visually\" id=\"sk-estimator-id-1\" type=\"checkbox\" checked><label for=\"sk-estimator-id-1\" class=\"sk-toggleable__label sk-toggleable__label-arrow\">SGDClassifier</label><div class=\"sk-toggleable__content\"><pre>SGDClassifier(random_state=42)</pre></div></div></div></div></div>"
      ],
      "text/plain": [
       "SGDClassifier(random_state=42)"
      ]
     },
     "execution_count": 8,
     "metadata": {},
     "output_type": "execute_result"
    }
   ],
   "source": [
    "from sklearn.linear_model import SGDClassifier\n",
    "\n",
    "sgd_clf = SGDClassifier(random_state=42)\n",
    "sgd_clf.fit(X_train, y_train_5)"
   ]
  },
  {
   "cell_type": "code",
   "execution_count": 9,
   "id": "8f136791",
   "metadata": {},
   "outputs": [
    {
     "data": {
      "text/plain": [
       "array([ True])"
      ]
     },
     "execution_count": 9,
     "metadata": {},
     "output_type": "execute_result"
    }
   ],
   "source": [
    "sgd_clf.predict([some_digit])"
   ]
  },
  {
   "cell_type": "markdown",
   "id": "84771a44",
   "metadata": {},
   "source": [
    "# 성능 측정\n",
    "## 1. 교차 검증을 사용한 정확도 측정\n",
    "> 교차 검증 구현: 사이킷런이 제공하는 기능보다 더 많이 제어해야할 필요가 있을 떄 직접 구현\n",
    "> - cross_val_score()와 비슷한 작업 수행, 동일한 결과 출력"
   ]
  },
  {
   "cell_type": "code",
   "execution_count": 10,
   "id": "5e76b613",
   "metadata": {},
   "outputs": [
    {
     "name": "stdout",
     "output_type": "stream",
     "text": [
      "0.9669\n",
      "0.91625\n",
      "0.96785\n"
     ]
    }
   ],
   "source": [
    "from sklearn.model_selection import StratifiedKFold\n",
    "from sklearn.base import clone\n",
    "\n",
    "#StratifiedKFold는 클래스별 비율이 유지되도록 폴드를 만들기 위해 계층적 샘플링을 수행\n",
    "skfolds = StratifiedKFold(n_splits=3, random_state=42, shuffle=True)\n",
    "\n",
    "#매 반복에서 분류기 객체를 복제하여 훈련 폴드로 훈련, 테스트 폴드로 예측을 만듦, 그 후 정확한 예측의 비율 출력\n",
    "for train_index, test_index in skfolds.split(X_train, y_train_5):\n",
    "    clone_clf = clone(sgd_clf)\n",
    "    X_train_folds = X_train[train_index]\n",
    "    y_train_folds = y_train_5[train_index]\n",
    "    X_test_fold = X_train[test_index]\n",
    "    y_test_fold = y_train_5[test_index]\n",
    "    \n",
    "    clone_clf.fit(X_train_folds, y_train_folds)\n",
    "    y_pred = clone_clf.predict(X_test_fold)\n",
    "    n_correct = sum(y_pred == y_test_fold)\n",
    "    print(n_correct / len(y_pred))"
   ]
  },
  {
   "cell_type": "code",
   "execution_count": 11,
   "id": "34702953",
   "metadata": {},
   "outputs": [
    {
     "data": {
      "text/plain": [
       "array([0.95035, 0.96035, 0.9604 ])"
      ]
     },
     "execution_count": 11,
     "metadata": {},
     "output_type": "execute_result"
    }
   ],
   "source": [
    "#cross_val_score() 함수로 폴드가 3개인 k겹 교차 검증을 사용해 SGDClassifier 모델을 평가\n",
    "from sklearn.model_selection import cross_val_score\n",
    "cross_val_score(sgd_clf, X_train, y_train_5, cv=3, scoring=\"accuracy\")"
   ]
  },
  {
   "cell_type": "code",
   "execution_count": 12,
   "id": "e03a0d78",
   "metadata": {},
   "outputs": [
    {
     "data": {
      "text/plain": [
       "array([0.91125, 0.90855, 0.90915])"
      ]
     },
     "execution_count": 12,
     "metadata": {},
     "output_type": "execute_result"
    }
   ],
   "source": [
    "#모든 이미지를 '5 아님' 클래스로 분류하는 더미 분류기의 정확도\n",
    "from sklearn.base import BaseEstimator\n",
    "\n",
    "class Never5Classifier(BaseEstimator):\n",
    "    def fit(self, X, y=None):\n",
    "        return self\n",
    "    def predict(self, X):\n",
    "        return np.zeros((len(X), 1), dtype=bool)\n",
    "\n",
    "never_5_clf = Never5Classifier()\n",
    "cross_val_score(never_5_clf, X_train, y_train_5, cv=3, scoring=\"accuracy\")"
   ]
  },
  {
   "cell_type": "markdown",
   "id": "6c4abaed",
   "metadata": {},
   "source": [
    "- 정확도를 분류기의 성능 측정 지표로 선호하지 않는 이유: 불균형한 데이터셋(어떤 클래스가 다른 것보다 월등히 많은 경우)"
   ]
  },
  {
   "cell_type": "markdown",
   "id": "25d8b685",
   "metadata": {},
   "source": [
    "## 2. 오차 행렬\n",
    "- 분류기의 성능을 평가하는 더 좋은 방법 (잘못 분류된 횟수를 세는 것이 기본 아이디어)\n",
    "- 실제 타겟과 비교할 수 있는 예측값을 만들기\n",
    "  - 테스트 세트를 여기서 사용하면 안됨. \n",
    "  - cross_val_predict() 함수를 사용: k겹 교차 검증을 수행하지만 평가 점수를 반환하지 않고 각 테스트 폴드에서 얻은 예측을 반환\n",
    "    - 훈련 세트의 모든 샘플에 대해 깨끗한 예측(모델이 훈련하는 동안 보지 못했던 데이터에 대해 예측)"
   ]
  },
  {
   "cell_type": "code",
   "execution_count": 13,
   "id": "7016188c",
   "metadata": {},
   "outputs": [
    {
     "data": {
      "text/plain": [
       "array([[53892,   687],\n",
       "       [ 1891,  3530]], dtype=int64)"
      ]
     },
     "execution_count": 13,
     "metadata": {},
     "output_type": "execute_result"
    }
   ],
   "source": [
    "from sklearn.model_selection import cross_val_predict\n",
    "from sklearn.metrics import confusion_matrix\n",
    "\n",
    "y_train_pred = cross_val_predict(sgd_clf, X_train, y_train_5, cv=3)\n",
    "confusion_matrix(y_train_5, y_train_pred) #타깃 클래스, 예측한 클래스"
   ]
  },
  {
   "cell_type": "markdown",
   "id": "9e002f30",
   "metadata": {},
   "source": [
    "실제 클래스\\예측한 클래스|negative|positive\n",
    "---|---|---\n",
    "negative|true negative|false positive\n",
    "positive|false negative|true positive"
   ]
  },
  {
   "cell_type": "code",
   "execution_count": 14,
   "id": "4dd7b769",
   "metadata": {},
   "outputs": [
    {
     "data": {
      "text/plain": [
       "array([[54579,     0],\n",
       "       [    0,  5421]], dtype=int64)"
      ]
     },
     "execution_count": 14,
     "metadata": {},
     "output_type": "execute_result"
    }
   ],
   "source": [
    "#완벽한 분류기일 경우 -> 오차 행렬의 주대각선만 0이 아닌 값이 됨\n",
    "y_train_perfect_predictions = y_train_5\n",
    "confusion_matrix(y_train_5, y_train_perfect_predictions)"
   ]
  },
  {
   "cell_type": "markdown",
   "id": "2d5903a4",
   "metadata": {},
   "source": [
    "- $정밀도 = \\frac{TP}{TP+FP}$ (양성 예측의 정확도)\n",
    "- $재현율 = \\frac{TP}{TP+FN}$ (민감도, 진짜 양성 비율 true positive rate)"
   ]
  },
  {
   "cell_type": "markdown",
   "id": "4c145fa2",
   "metadata": {},
   "source": [
    "## 3. 정밀도와 재현율\n",
    "- 사이킷런은 정밀도, 재현율 등 분류기의 지표를 계산하는 함수 제공"
   ]
  },
  {
   "cell_type": "code",
   "execution_count": 15,
   "id": "d21d10ca",
   "metadata": {},
   "outputs": [
    {
     "data": {
      "text/plain": [
       "0.8370879772350012"
      ]
     },
     "execution_count": 15,
     "metadata": {},
     "output_type": "execute_result"
    }
   ],
   "source": [
    "from sklearn.metrics import precision_score, recall_score\n",
    "precision_score(y_train_5, y_train_pred)"
   ]
  },
  {
   "cell_type": "code",
   "execution_count": 16,
   "id": "a4b6f057",
   "metadata": {},
   "outputs": [
    {
     "data": {
      "text/plain": [
       "0.6511713705958311"
      ]
     },
     "execution_count": 16,
     "metadata": {},
     "output_type": "execute_result"
    }
   ],
   "source": [
    "recall_score(y_train_5, y_train_pred)"
   ]
  },
  {
   "cell_type": "markdown",
   "id": "40db9232",
   "metadata": {},
   "source": [
    "- F1 점수: 정밀도와 재현율의 조화 평균 \n",
    "  - $F_1 = \\frac{2}{\\frac{1}{정밀도}+\\frac{1}{재현율}} = 2 \\times \\frac{정밀도 \\times 재현율}{정밀도 + 재현율} = \\frac{TP}{TP+\\frac{FN+FP}{2}}$"
   ]
  },
  {
   "cell_type": "code",
   "execution_count": 17,
   "id": "2bcf901c",
   "metadata": {},
   "outputs": [
    {
     "data": {
      "text/plain": [
       "0.7325171197343846"
      ]
     },
     "execution_count": 17,
     "metadata": {},
     "output_type": "execute_result"
    }
   ],
   "source": [
    "from sklearn.metrics import f1_score\n",
    "f1_score(y_train_5, y_train_pred)"
   ]
  },
  {
   "cell_type": "markdown",
   "id": "3fd88cf6",
   "metadata": {},
   "source": [
    "![f_score](./f_score.png)"
   ]
  },
  {
   "cell_type": "markdown",
   "id": "c3a23840",
   "metadata": {},
   "source": [
    "- 정밀도와 재현율이 비슷한 분류기에서는 F1점수가 높음\n",
    "  - 상황에 따라서 낮은 재현율을 가지는 대신 높은 정밀도가 필요한 경우(가짜 음성이 높아도 가짜 양성이 낮아야하는 경우)\n",
    "  - 혹은 낮은 정밀도를 가지는 대신 높은 재현율이 필요한 경우(가짜 양성이 높아도 가짜 음성이 낮아야하는 경우)"
   ]
  },
  {
   "cell_type": "markdown",
   "id": "9de955c1",
   "metadata": {},
   "source": [
    "## 4. 정밀도/재현율 트레이드오프\n",
    "- 정밀도를 올리면 재현율이 줄고, 재현율을 올리면 정밀도가 줄음.\n",
    "- SGDClassifier가 결정함수를 통해 분류를 결정(임곗값보다 크면 양성, 작으면 음성)\n",
    "![trade_off](./precision_recall_trade_off.png)\n",
    "- 사이킷런에서 임곗값을 직접 지정할 순 없음; 예측에 사용한 점수 확인 가능(decision_function() 메서드 호출)"
   ]
  },
  {
   "cell_type": "code",
   "execution_count": 18,
   "id": "3f10bb9b",
   "metadata": {},
   "outputs": [
    {
     "data": {
      "text/plain": [
       "array([2164.22030239])"
      ]
     },
     "execution_count": 18,
     "metadata": {},
     "output_type": "execute_result"
    }
   ],
   "source": [
    "y_scores = sgd_clf.decision_function([some_digit])\n",
    "y_scores"
   ]
  },
  {
   "cell_type": "code",
   "execution_count": 19,
   "id": "9e8477cd",
   "metadata": {},
   "outputs": [
    {
     "data": {
      "text/plain": [
       "array([ True])"
      ]
     },
     "execution_count": 19,
     "metadata": {},
     "output_type": "execute_result"
    }
   ],
   "source": [
    "threshold = 0\n",
    "y_some_digit_pred = (y_scores > threshold)\n",
    "y_some_digit_pred #predict() 메서드 내부에서 일어나는 일"
   ]
  },
  {
   "cell_type": "code",
   "execution_count": 20,
   "id": "c15d59c6",
   "metadata": {},
   "outputs": [
    {
     "data": {
      "text/plain": [
       "array([False])"
      ]
     },
     "execution_count": 20,
     "metadata": {},
     "output_type": "execute_result"
    }
   ],
   "source": [
    "threshold = 8000\n",
    "y_some_digit_pred = (y_scores > threshold)\n",
    "y_some_digit_pred"
   ]
  },
  {
   "cell_type": "markdown",
   "id": "80b225dd",
   "metadata": {},
   "source": [
    "- 임계값을 높이고 재현율이 낮아짐(가짜음성이 많아지므로)\n",
    "- 적절한 임곗값을 정하는 방법\n",
    "  1. cross_val_predict() 함수 사용, 결정 점수를 반환받도록 지정\n",
    "  2. precision_recall_curve() 함수 사용 -> 가능한 모든 임곗값에 대해 정밀도, 재현율 계산 가능"
   ]
  },
  {
   "cell_type": "code",
   "execution_count": 22,
   "id": "bdad5ce5",
   "metadata": {},
   "outputs": [
    {
     "data": {
      "image/png": "[encoded data removed]",
      "text/plain": [
       "<Figure size 800x400 with 1 Axes>"
      ]
     },
     "metadata": {},
     "output_type": "display_data"
    }
   ],
   "source": [
    "from sklearn.metrics import precision_recall_curve\n",
    "\n",
    "y_scores = cross_val_predict(sgd_clf, X_train, y_train_5, cv=3, method=\"decision_function\")\n",
    "precisions, recalls, thresholds = precision_recall_curve(y_train_5, y_scores)\n",
    "\n",
    "def plot_precision_recall_vs_threshold(precisions, recalls, thresholds):\n",
    "    plt.plot(thresholds, precisions[:-1], \"b--\", label=\"Precision\", linewidth=2)\n",
    "    plt.plot(thresholds, recalls[:-1], \"g-\", label=\"Recall\", linewidth=2)\n",
    "    plt.legend(loc=\"center right\", fontsize=16)\n",
    "    plt.xlabel(\"Threshold\", fontsize=16)\n",
    "    plt.grid(True)\n",
    "    plt.axis([-50000, 50000, 0, 1])\n",
    "    \n",
    "recall_90_precision = recalls[np.argmax(precisions >= 0.90)]\n",
    "threshold_90_precision = thresholds[np.argmax(precisions >= 0.90)]\n",
    "\n",
    "plt.figure(figsize=(8, 4))\n",
    "plot_precision_recall_vs_threshold(precisions, recalls, thresholds)\n",
    "plt.plot([threshold_90_precision, threshold_90_precision], [0., 0.9], \"r:\")\n",
    "plt.plot([-50000, threshold_90_precision], [0.9, 0.9], \"r:\")\n",
    "plt.plot([-50000, threshold_90_precision], [recall_90_precision, recall_90_precision], \"r:\")\n",
    "plt.plot([threshold_90_precision], [0.9], \"ro\")\n",
    "plt.plot([threshold_90_precision], [recall_90_precision], \"ro\")\n",
    "plt.show()"
   ]
  },
  {
   "cell_type": "code",
   "execution_count": 24,
   "id": "64afd366",
   "metadata": {},
   "outputs": [
    {
     "data": {
      "text/plain": [
       "True"
      ]
     },
     "execution_count": 24,
     "metadata": {},
     "output_type": "execute_result"
    }
   ],
   "source": [
    "#y_train_pred와 0 이상의 y_scores 값이 같냐는 코드인데 왜 여기있는겨\n",
    "(y_train_pred == (y_scores > 0)).all()"
   ]
  },
  {
   "cell_type": "markdown",
   "id": "e5abf0a0",
   "metadata": {},
   "source": [
    "- 곡선의 모양\n",
    "  - 정밀도 곡선은 임곗값을 올릴 때 정밀도가 낮아질 때가 있기 때문에 울퉁불퉁\n",
    "  - 재현율은 임곗값이 올라감에 따라 줄어들 수 밖에 없으므로 부드러운 곡선\n",
    "- 좋은 정밀도/재현율 트레이드오프를 선택하는 다른 방법: 재현율에 대한 정밀도 곡선을 그리기\n",
    "  - 사이킷런의 plot_precision_recall_curve() 함수 이용 가능"
   ]
  },
  {
   "cell_type": "code",
   "execution_count": 25,
   "id": "54b43f47",
   "metadata": {},
   "outputs": [
    {
     "data": {
      "image/png": "[encoded data removed]",
      "text/plain": [
       "<Figure size 800x600 with 1 Axes>"
      ]
     },
     "metadata": {},
     "output_type": "display_data"
    }
   ],
   "source": [
    "def plot_precision_vs_recall(precisions, recalls):\n",
    "    plt.plot(recalls, precisions, \"b-\", linewidth=2)\n",
    "    plt.xlabel(\"Recall\", fontsize=16)\n",
    "    plt.ylabel(\"Precision\", fontsize=16)\n",
    "    plt.axis([0, 1, 0, 1])\n",
    "    plt.grid(True)\n",
    "\n",
    "plt.figure(figsize=(8, 6))\n",
    "plot_precision_vs_recall(precisions, recalls)\n",
    "plt.plot([recall_90_precision, recall_90_precision], [0., 0.9], \"r:\")\n",
    "plt.plot([0.0, recall_90_precision], [0.9, 0.9], \"r:\")\n",
    "plt.plot([recall_90_precision], [0.9], \"ro\")\n",
    "plt.show()"
   ]
  },
  {
   "cell_type": "code",
   "execution_count": 26,
   "id": "82b00acb",
   "metadata": {},
   "outputs": [
    {
     "data": {
      "text/plain": [
       "(0.9000345901072293, 0.4799852425751706)"
      ]
     },
     "execution_count": 26,
     "metadata": {},
     "output_type": "execute_result"
    }
   ],
   "source": [
    "#정밀도 90%를 달성하는 것이 목표라고 가정할 때, 임곗값을 찾기\n",
    "#np.argmax()는 최댓값의 첫 번째 인덱스를 반환\n",
    "threshold_90_precision = thresholds[np.argmax(precisions >= 0.90)]\n",
    "\n",
    "#훈련세트에 대한 예측을 만들기\n",
    "#predict() 메서드의 호출 대신 다음 코드 실행\n",
    "y_train_pred_90 = (y_scores >= threshold_90_precision)\n",
    "\n",
    "#정밀도와 재현율\n",
    "precision_score(y_train_5, y_train_pred_90), recall_score(y_train_5, y_train_pred_90)"
   ]
  },
  {
   "cell_type": "markdown",
   "id": "ddf3904f",
   "metadata": {},
   "source": [
    "- 충분히 큰 임곗값을 지정하면 어떤 가상의 정밀도에 대해서도 분류기를 손쉽게 만들 수 있음\n",
    "\n",
    "## 5. ROC 곡선\n",
    "- Receiver Operating Characteristic 곡선(수신기 조작 특성)\n",
    "  - 이진 분류에서 널리 사용하는 도구\n",
    "  - 거짓 양성 비율(FPR)에 대한 진짜 양성 비율(TPR=재현율)\n",
    "    - FPR(거짓 양성 비율) = 1 - TNR(진짜 음성 비율=특이도)\n",
    "    - $FPR = \\frac{FP}{FP+TN} = \\frac{FP+TN-TN}{FP+TN} = 1-\\frac{TN}{FP+TN} = 1-TNR$\n",
    "  - ROC 곡선은 재현율(민감도)에 대한 1-특이도 그래프\n"
   ]
  },
  {
   "cell_type": "code",
   "execution_count": null,
   "id": "5c80eaed",
   "metadata": {},
   "outputs": [],
   "source": [
    "from sklearn.metrics import roc_curve\n",
    "\n",
    "fpr, tpr, thresholds = roc_curve(y_train_5, y_scores)\n"
   ]
  }
 ],
 "metadata": {
  "kernelspec": {
   "display_name": "Python 3 (ipykernel)",
   "language": "python",
   "name": "python3"
  },
  "language_info": {
   "codemirror_mode": {
    "name": "ipython",
    "version": 3
   },
   "file_extension": ".py",
   "mimetype": "text/x-python",
   "name": "python",
   "nbconvert_exporter": "python",
   "pygments_lexer": "ipython3",
   "version": "3.11.5"
  }
 },
 "nbformat": 4,
 "nbformat_minor": 5
}
