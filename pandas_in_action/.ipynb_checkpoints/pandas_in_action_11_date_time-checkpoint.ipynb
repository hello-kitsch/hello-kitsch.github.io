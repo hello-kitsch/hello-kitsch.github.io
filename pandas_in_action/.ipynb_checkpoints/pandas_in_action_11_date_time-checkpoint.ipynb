{
 "cells": [
  {
   "cell_type": "markdown",
   "id": "7600f1a9",
   "metadata": {},
   "source": [
    "- 날짜/시간(datetime)은 날짜와 시간을 저장하는 데이터 유형\n",
    "  - 시간 경과에 따른 경향을 확인할 수 있으므로 가치가 있음\n",
    "  - 데이터셋의 시간 정보는 보통 데이터의 경향이 나타나는 이유를 뒷받침\n",
    "- 파이썬에 내장된 날짜/시간 객체\n",
    "- 판다스의 Timestamp, Timedelta 객체\n",
    "- 라이브러리를 사용하여 문자열을 날짜로 변환, 시간차를 연산, 기간 계산 가능"
   ]
  },
  {
   "cell_type": "markdown",
   "id": "450e0cda",
   "metadata": {},
   "source": [
    "# Timestamp 객체\n",
    "- 모듈: 파이썬 코드가 담긴 파일. 표준 라이브러리는 DB연결, 수학, 테스트 등의 일반적 문제를 해결하는 솔루션을 제공\n",
    "- 파이썬에는 250개의 모듈이 존재"
   ]
  },
  {
   "cell_type": "markdown",
   "id": "799c1607",
   "metadata": {},
   "source": [
    "## 파이썬의 날짜/시간\n"
   ]
  },
  {
   "cell_type": "code",
   "execution_count": null,
   "id": "0eb69c22",
   "metadata": {},
   "outputs": [],
   "source": []
  }
 ],
 "metadata": {
  "kernelspec": {
   "display_name": "Python 3 (ipykernel)",
   "language": "python",
   "name": "python3"
  },
  "language_info": {
   "codemirror_mode": {
    "name": "ipython",
    "version": 3
   },
   "file_extension": ".py",
   "mimetype": "text/x-python",
   "name": "python",
   "nbconvert_exporter": "python",
   "pygments_lexer": "ipython3",
   "version": "3.10.9"
  }
 },
 "nbformat": 4,
 "nbformat_minor": 5
}
