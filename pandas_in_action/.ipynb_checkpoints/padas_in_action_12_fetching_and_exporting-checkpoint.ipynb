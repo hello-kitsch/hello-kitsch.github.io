{
 "cells": [
  {
   "cell_type": "markdown",
   "id": "7d80f685",
   "metadata": {},
   "source": [
    "- 데이터셋의 형식: csv(값을 쉼표로 구분), tsv(값을 탭으로 구분), xlsx(액셀 통합 문서) 등\n",
    "  - 일부 데이터 형식은 데이터를 표 형식으로 저장하지 않음 -> 키-값 형식으로 관련된 데이터 컬렉션을 중첩하여 저장\n",
    "  - 판다스는 키-값 데이터 <-> 테이블 형식의 데이터 로 저장하는 기능을 제공"
   ]
  },
  {
   "cell_type": "markdown",
   "id": "29831554",
   "metadata": {},
   "source": [
    "# JSON 파일 읽고 쓰기\n",
    "- JavaScript Object Notation: 텍스트 데이터를 저장하고 전송하기 위한 키-값 저장 형식\n",
    "- JSON은 JavaScript에서 구문적으로 영감을 받았지만, **언어 독립적**: 대부부느이 언어는 JSON을 생성하고 파싱 가능\n",
    "- JSON 응답: 키-값 쌍으로 구성, 키가 값의 고유 식별자 역할, 콜론 기호로 연결, 키는 문자열이어야함\n",
    "- JSON은 웹사이트 서버와 같은 최신 API에 널리 사용되는 응답 형식\n",
    "- 린터(linter): 키-값 쌍을 별도의 줄에 배치하여 JSON 응답을 가독성 있는 형식으로 나타내는 소프트웨어 프로그램\n",
    "```\n",
    "{\n",
    "    \"name\": \"Harry Potter\",\n",
    "    \"age\": 17,\n",
    "    \"wizard\": true,\n",
    "    \"friends\": [\"Ron Weasley\", \"Hermione Granger\"],\n",
    "    \"address\": {\n",
    "        \"street\": \"4 Privet Drive\",\n",
    "        \"town\": \"Little Whinging\"\n",
    "    }\n",
    "}\n",
    "```\n",
    "## JSON 파일을 DataFrame으로 불러오기"
   ]
  },
  {
   "cell_type": "code",
   "execution_count": 5,
   "id": "ad2469e1",
   "metadata": {},
   "outputs": [
    {
     "data": {
      "text/html": [
       "<div>\n",
       "<style scoped>\n",
       "    .dataframe tbody tr th:only-of-type {\n",
       "        vertical-align: middle;\n",
       "    }\n",
       "\n",
       "    .dataframe tbody tr th {\n",
       "        vertical-align: top;\n",
       "    }\n",
       "\n",
       "    .dataframe thead th {\n",
       "        text-align: right;\n",
       "    }\n",
       "</style>\n",
       "<table border=\"1\" class=\"dataframe\">\n",
       "  <thead>\n",
       "    <tr style=\"text-align: right;\">\n",
       "      <th></th>\n",
       "      <th>prizes</th>\n",
       "    </tr>\n",
       "  </thead>\n",
       "  <tbody>\n",
       "    <tr>\n",
       "      <th>0</th>\n",
       "      <td>{'year': '2019', 'category': 'chemistry', 'lau...</td>\n",
       "    </tr>\n",
       "    <tr>\n",
       "      <th>1</th>\n",
       "      <td>{'year': '2019', 'category': 'economics', 'lau...</td>\n",
       "    </tr>\n",
       "    <tr>\n",
       "      <th>2</th>\n",
       "      <td>{'year': '2019', 'category': 'literature', 'la...</td>\n",
       "    </tr>\n",
       "    <tr>\n",
       "      <th>3</th>\n",
       "      <td>{'year': '2019', 'category': 'peace', 'laureat...</td>\n",
       "    </tr>\n",
       "    <tr>\n",
       "      <th>4</th>\n",
       "      <td>{'year': '2019', 'category': 'physics', 'overa...</td>\n",
       "    </tr>\n",
       "  </tbody>\n",
       "</table>\n",
       "</div>"
      ],
      "text/plain": [
       "                                              prizes\n",
       "0  {'year': '2019', 'category': 'chemistry', 'lau...\n",
       "1  {'year': '2019', 'category': 'economics', 'lau...\n",
       "2  {'year': '2019', 'category': 'literature', 'la...\n",
       "3  {'year': '2019', 'category': 'peace', 'laureat...\n",
       "4  {'year': '2019', 'category': 'physics', 'overa..."
      ]
     },
     "execution_count": 5,
     "metadata": {},
     "output_type": "execute_result"
    }
   ],
   "source": [
    "#read_json 메서드\n",
    "import pandas as pd\n",
    "nobel = pd.read_json(\"nobel.json\")\n",
    "nobel.head()"
   ]
  },
  {
   "cell_type": "code",
   "execution_count": 6,
   "id": "ebc95279",
   "metadata": {},
   "outputs": [
    {
     "data": {
      "text/plain": [
       "{'year': '2019',\n",
       " 'category': 'literature',\n",
       " 'laureates': [{'id': '980',\n",
       "   'firstname': 'Peter',\n",
       "   'surname': 'Handke',\n",
       "   'motivation': '\"for an influential work that with linguistic ingenuity has explored the periphery and the specificity of human experience\"',\n",
       "   'share': '1'}]}"
      ]
     },
     "execution_count": 6,
     "metadata": {},
     "output_type": "execute_result"
    }
   ],
   "source": [
    "#판다스는 JSON을 가져올때 최상위 prize 키를 열의 이름으로 설정 후\n",
    "#JSON에서 파싱한 각 키-값 쌍에 대한 파이썬 딕셔너리를 생성\n",
    "nobel.loc[2, \"prizes\"]"
   ]
  },
  {
   "cell_type": "code",
   "execution_count": 7,
   "id": "15d98231",
   "metadata": {},
   "outputs": [
    {
     "data": {
      "text/plain": [
       "dict"
      ]
     },
     "execution_count": 7,
     "metadata": {},
     "output_type": "execute_result"
    }
   ],
   "source": [
    "type(nobel.loc[2, \"prizes\"])"
   ]
  },
  {
   "cell_type": "markdown",
   "id": "fa01cba4",
   "metadata": {},
   "source": [
    "- JSON의 최상위 키-값 쌍을 추출하여 DataFrame 열로 분리,\n",
    "- 값이 리스트인 경우, 각 딕셔너리를 순회하며 중첩 정보를 추출\n",
    "- **평탄화(flattering)/정규화(normalizing)**: 중첩된 데이터 레코드를 단일 1차원 리스트로 변형하는 과정\n",
    "  - 판다스에 있는 json_normalize 함수는 평탄화(정규화) 작업을 처리"
   ]
  },
  {
   "cell_type": "code",
   "execution_count": 9,
   "id": "7b59128f",
   "metadata": {},
   "outputs": [
    {
     "data": {
      "text/plain": [
       "{'year': '2019',\n",
       " 'category': 'chemistry',\n",
       " 'laureates': [{'id': '976',\n",
       "   'firstname': 'John',\n",
       "   'surname': 'Goodenough',\n",
       "   'motivation': '\"for the development of lithium-ion batteries\"',\n",
       "   'share': '3'},\n",
       "  {'id': '977',\n",
       "   'firstname': 'M. Stanley',\n",
       "   'surname': 'Whittingham',\n",
       "   'motivation': '\"for the development of lithium-ion batteries\"',\n",
       "   'share': '3'},\n",
       "  {'id': '978',\n",
       "   'firstname': 'Akira',\n",
       "   'surname': 'Yoshino',\n",
       "   'motivation': '\"for the development of lithium-ion batteries\"',\n",
       "   'share': '3'}]}"
      ]
     },
     "execution_count": 9,
     "metadata": {},
     "output_type": "execute_result"
    }
   ],
   "source": [
    "chemistry_2019 = nobel.loc[0, \"prizes\"]\n",
    "chemistry_2019"
   ]
  },
  {
   "cell_type": "code",
   "execution_count": 10,
   "id": "f9beb556",
   "metadata": {},
   "outputs": [
    {
     "data": {
      "text/html": [
       "<div>\n",
       "<style scoped>\n",
       "    .dataframe tbody tr th:only-of-type {\n",
       "        vertical-align: middle;\n",
       "    }\n",
       "\n",
       "    .dataframe tbody tr th {\n",
       "        vertical-align: top;\n",
       "    }\n",
       "\n",
       "    .dataframe thead th {\n",
       "        text-align: right;\n",
       "    }\n",
       "</style>\n",
       "<table border=\"1\" class=\"dataframe\">\n",
       "  <thead>\n",
       "    <tr style=\"text-align: right;\">\n",
       "      <th></th>\n",
       "      <th>year</th>\n",
       "      <th>category</th>\n",
       "      <th>laureates</th>\n",
       "    </tr>\n",
       "  </thead>\n",
       "  <tbody>\n",
       "    <tr>\n",
       "      <th>0</th>\n",
       "      <td>2019</td>\n",
       "      <td>chemistry</td>\n",
       "      <td>[{'id': '976', 'firstname': 'John', 'surname':...</td>\n",
       "    </tr>\n",
       "  </tbody>\n",
       "</table>\n",
       "</div>"
      ],
      "text/plain": [
       "   year   category                                          laureates\n",
       "0  2019  chemistry  [{'id': '976', 'firstname': 'John', 'surname':..."
      ]
     },
     "execution_count": 10,
     "metadata": {},
     "output_type": "execute_result"
    }
   ],
   "source": [
    "#json_normalize 함수의 data 매개변수에 딕셔너리를 전달\n",
    "pd.json_normalize(data = chemistry_2019)"
   ]
  },
  {
   "cell_type": "code",
   "execution_count": null,
   "id": "17aa591a",
   "metadata": {},
   "outputs": [],
   "source": [
    "#json_normalize 함수의 "
   ]
  }
 ],
 "metadata": {
  "kernelspec": {
   "display_name": "Python 3 (ipykernel)",
   "language": "python",
   "name": "python3"
  },
  "language_info": {
   "codemirror_mode": {
    "name": "ipython",
    "version": 3
   },
   "file_extension": ".py",
   "mimetype": "text/x-python",
   "name": "python",
   "nbconvert_exporter": "python",
   "pygments_lexer": "ipython3",
   "version": "3.10.9"
  }
 },
 "nbformat": 4,
 "nbformat_minor": 5
}
