{
 "cells": [
  {
   "cell_type": "markdown",
   "id": "ddba81ea",
   "metadata": {},
   "source": [
    "- 날짜/시간(datetime)은 날짜와 시간을 저장하는 데이터 유형\n",
    "  - 시간 경과에 따른 경향을 확인할 수 있으므로 가치가 있음\n",
    "  - 데이터셋의 시간 정보는 보통 데이터의 경향이 나타나는 이유를 뒷받침\n",
    "- 파이썬에 내장된 날짜/시간 객체\n",
    "- 판다스의 Timestamp, Timedelta 객체\n",
    "- 라이브러리를 사용하여 문자열을 날짜로 변환, 시간차를 연산, 기간 계산 가능"
   ]
  },
  {
   "cell_type": "markdown",
   "id": "80a4bf2a",
   "metadata": {},
   "source": [
    "# Timestamp 객체\n",
    "- 모듈: 파이썬 코드가 담긴 파일"
   ]
  },
  {
   "cell_type": "code",
   "execution_count": null,
   "id": "61ec7726",
   "metadata": {},
   "outputs": [],
   "source": []
  }
 ],
 "metadata": {
  "kernelspec": {
   "display_name": "Python 3 (ipykernel)",
   "language": "python",
   "name": "python3"
  },
  "language_info": {
   "codemirror_mode": {
    "name": "ipython",
    "version": 3
   },
   "file_extension": ".py",
   "mimetype": "text/x-python",
   "name": "python",
   "nbconvert_exporter": "python",
   "pygments_lexer": "ipython3",
   "version": "3.10.9"
  }
 },
 "nbformat": 4,
 "nbformat_minor": 5
}
