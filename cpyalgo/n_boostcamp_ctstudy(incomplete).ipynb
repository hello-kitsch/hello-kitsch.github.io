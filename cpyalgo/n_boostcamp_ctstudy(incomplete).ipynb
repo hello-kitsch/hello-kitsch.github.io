{
 "cells": [
  {
   "cell_type": "code",
   "execution_count": 1,
   "id": "79887249",
   "metadata": {},
   "outputs": [
    {
     "name": "stdout",
     "output_type": "stream",
     "text": [
      "숫자 입력!4\n",
      "24\n"
     ]
    }
   ],
   "source": [
    "#1. 재귀: 팩토리얼\n",
    "def factorial1(n):\n",
    "    result = 1\n",
    "    while True:\n",
    "        result *= n\n",
    "        n -= 1\n",
    "        if n == 0:\n",
    "            break\n",
    "    return result\n",
    "\n",
    "def factorial2(n):\n",
    "    result = 1\n",
    "    for i in range(1, n+1, 1):\n",
    "        result *= i\n",
    "    return result\n",
    "\n",
    "def factorial3(n):\n",
    "    if n == 1:\n",
    "        return 1\n",
    "    else:\n",
    "        return n * factorial3(n-1)\n",
    "\n",
    "n = int(input(\"숫자 입력!\"))\n",
    "print(factorial1(n))"
   ]
  },
  {
   "cell_type": "code",
   "execution_count": 2,
   "id": "413e39a2",
   "metadata": {},
   "outputs": [
    {
     "data": {
      "text/plain": [
       "[1, 2, 6]"
      ]
     },
     "execution_count": 2,
     "metadata": {},
     "output_type": "execute_result"
    }
   ],
   "source": [
    "#2. 함수_이름 = lambda 매개변수1, 매개변수2, ... : 매개변수를_이용한_표현식\n",
    "list(filter(lambda x: x > 0, [1, -3, 2, 0, -5, 6]))"
   ]
  },
  {
   "cell_type": "code",
   "execution_count": 3,
   "id": "ed9c3e0e",
   "metadata": {},
   "outputs": [
    {
     "name": "stdout",
     "output_type": "stream",
     "text": [
      "구구단 단수 입력!3\n",
      "[0, 3, 6, 9, 12, 15, 18, 21, 24, 27]\n"
     ]
    }
   ],
   "source": [
    "#3. 구구단 프로그래밍\n",
    "def gugudan_for(n):\n",
    "    result = []\n",
    "    for i in range(10):\n",
    "        result.append(n * i)\n",
    "    return result\n",
    "\n",
    "def gugudan_while(n):\n",
    "    result = []\n",
    "    i = 1\n",
    "    while i < 10:\n",
    "        result.append(n * i)\n",
    "        i += 1\n",
    "    return result\n",
    "\n",
    "def three_or_five():\n",
    "    result_list = []\n",
    "    i = 1\n",
    "    result = 1\n",
    "    while i < 1000:\n",
    "        if i % 3 == 0 or i % 5 == 0:\n",
    "            result_list.append(i)\n",
    "        i = i + 1\n",
    "    for k in result_list:\n",
    "        result += k\n",
    "    return result\n",
    "\n",
    "n = int(input(\"구구단 단수 입력!\"))\n",
    "print(gugudan_for(n))"
   ]
  },
  {
   "cell_type": "code",
   "execution_count": 4,
   "id": "75414697",
   "metadata": {},
   "outputs": [],
   "source": [
    "#4. 가상환경 만들기\n",
    "#conda create -n virtual_space_name python=3.8\n",
    "#conda activate virtual_space_name\n",
    "#conda install numpy\n",
    "#conda install jupyter"
   ]
  },
  {
   "cell_type": "code",
   "execution_count": 5,
   "id": "fcbd7257",
   "metadata": {},
   "outputs": [
    {
     "name": "stdout",
     "output_type": "stream",
     "text": [
      "233168\n"
     ]
    }
   ],
   "source": [
    "#5. 3과 5의 배수를 모두 더하기\n",
    "result = 0\n",
    "for n in range(1, 1000):\n",
    "    if n % 3 == 0 or n % 5 == 0:\n",
    "        result += n\n",
    "print(result)"
   ]
  },
  {
   "cell_type": "code",
   "execution_count": 13,
   "id": "1f6e42ee",
   "metadata": {},
   "outputs": [
    {
     "name": "stdout",
     "output_type": "stream",
     "text": [
      "게시물의 총 개수와 한 페이지에 보여줄 게시물 수를 차례로 입력31 5\n",
      "7개의 게시판이 필요합니다.\n"
     ]
    }
   ],
   "source": [
    "#6. 게시판 페이징 하기\n",
    "def get_total_page(m, n):\n",
    "    if m == 0:\n",
    "        return 0\n",
    "    elif m % n == 0:\n",
    "        return m // n\n",
    "    else:\n",
    "        return m // n + 1\n",
    "    \n",
    "m, n = input(\"게시물의 총 개수와 한 페이지에 보여줄 게시물 수를 차례로 입력\").split(' ')\n",
    "m = int(m)\n",
    "n = int(n)\n",
    "print(\"{0}개의 게시판이 필요합니다.\".format(get_total_page(m, n)))"
   ]
  },
  {
   "cell_type": "code",
   "execution_count": 14,
   "id": "b5e92c36",
   "metadata": {},
   "outputs": [],
   "source": [
    "#7. 간단한 메모장 만들기\n",
    "import sys\n",
    "#입력: python memo.py -a \"Life is too short\"\n",
    "option = sys.argv[1] #-a\n",
    "\n",
    "if option == '-a':\n",
    "    memo = sys.argv[2] #\"Life is too short\"\n",
    "    f = open('memo.txt', 'a')\n",
    "    f.write(memo)\n",
    "    f.write('\\n')\n",
    "    f.close()\n",
    "elif option == '-v':\n",
    "    f = open('memo.txt')\n",
    "    memo = f.read()\n",
    "    f.close()\n",
    "    print(memo)"
   ]
  },
  {
   "cell_type": "code",
   "execution_count": 18,
   "id": "138ee521",
   "metadata": {},
   "outputs": [],
   "source": [
    "#8. 탭 문자를 공백 문자 4개로 바꾸기\n",
    "import sys\n",
    "\n",
    "def tab_to_space():\n",
    "    src = sys.argv[1]\n",
    "    dst = sys.argv[2]\n",
    "\n",
    "    f = open(src)\n",
    "    tab_content = f.read()\n",
    "    f.close\n",
    "\n",
    "    space_content = tab_content.replace(\"\\t\", \" \"*4)\n",
    "\n",
    "    f = open(dst, 'w')\n",
    "    f.write(space_content)\n",
    "    f.close()"
   ]
  },
  {
   "cell_type": "code",
   "execution_count": 21,
   "id": "0609283a",
   "metadata": {},
   "outputs": [],
   "source": [
    "#9. 하위 디렉터리 검색\n",
    "import os\n",
    "\n",
    "def search(dirname):\n",
    "    try:\n",
    "        filenames = os.listdir(dirname)\n",
    "        for filename in filenames:\n",
    "            full_filename = os.path.join(dirname, filename)\n",
    "            if os.path.isdir(full_filename):\n",
    "                search(full_filename)\n",
    "            else:\n",
    "                ext = os.path.splitext(full_filename)[-1]\n",
    "                if ext == '.py':\n",
    "                    print(full_filename)\n",
    "    except PermissionError:\n",
    "        pass\n",
    "\n",
    "# search(\"c:/\") #주석 해제 후 실행\n",
    "\n",
    "def search_os_walk():\n",
    "    for (path, dir, files) in os.walk(\"c:/\"):\n",
    "        for filename in files:\n",
    "            ext = os.path.splitext(filename)[-1]\n",
    "            if ext == \".py\":\n",
    "                print(\"%s/%s\" %(path, filename))"
   ]
  },
  {
   "cell_type": "code",
   "execution_count": 22,
   "id": "556e4bab",
   "metadata": {},
   "outputs": [],
   "source": [
    "#k번째 수\n",
    "def solution1(array, commands):\n",
    "    answer = []\n",
    "\n",
    "    for i in commands:\n",
    "        arr = array[i[0]-1 : i[1]-1]\n",
    "        arr.sort()\n",
    "        answer.append(arr[i[2]-1])\n",
    "    return answer\n",
    "\n",
    "def solution2(array, commands):\n",
    "    return list(map(lambda x: sorted(array[x[0]-1:x[1]])[x[2]-1], commands))"
   ]
  },
  {
   "cell_type": "code",
   "execution_count": 24,
   "id": "6f3154f6",
   "metadata": {},
   "outputs": [
    {
     "name": "stdout",
     "output_type": "stream",
     "text": [
      "n과 m을 입력하세요2 4\n",
      "**\n",
      "**\n",
      "**\n",
      "**\n"
     ]
    }
   ],
   "source": [
    "#직사각형 별찍기\n",
    "n, m = map(int, input(\"n과 m을 입력하세요\").strip().split(' '))\n",
    "\n",
    "def solution1(n, m):\n",
    "    for i in range(m):\n",
    "        for k in range(n):\n",
    "            print(\"*\")\n",
    "        print(\"\\n\")\n",
    "\n",
    "def solution2(n, m):\n",
    "    stars = \"*\" * n\n",
    "    for i in range(m):\n",
    "        print(stars)\n",
    "\n",
    "def solution3(n, m):\n",
    "    stars = (\"*\" * a + '\\n') * b\n",
    "    print(stars)\n",
    "    \n",
    "solution2(n, m)"
   ]
  },
  {
   "cell_type": "code",
   "execution_count": 25,
   "id": "e4d199ff",
   "metadata": {},
   "outputs": [],
   "source": [
    "#공원 산책\n",
    "def solution(park, routes):\n",
    "    for i in range(len(park)): #직사각형 세로(y축)\n",
    "        for k in range(len(park[i])): #직사각형 가로(x축)\n",
    "            if park[i][k] == 'S':\n",
    "                y = i\n",
    "                x = k\n",
    "    \n",
    "    option = {'N':(-1, 0), 'S':(1, 0), 'W':(0, -1), 'E':(0, 1)}\n",
    "\n",
    "    for route in routes:\n",
    "        dy, dx = option[route.split(' ')[0]]\n",
    "        n = route.split(' ')[1]\n",
    "        yy, xx = y, x\n",
    "        move = True\n",
    "\n",
    "        for _ in range(n):\n",
    "            y_n = yy + dy\n",
    "            x_n = xx + dx\n",
    "            if 0 <= y_n <= len(park)-1 and 0 <= x_n <= len(park[0])-1 and park[dy, dx] != 'X':\n",
    "                move = True\n",
    "                yy = y_n\n",
    "                xx = x_n\n",
    "            else:\n",
    "                move = False\n",
    "                break\n",
    "        \n",
    "        if move:\n",
    "            y, x = y_n, x_n #xx, yy면 안되나?\n",
    "    return [y, x]"
   ]
  },
  {
   "cell_type": "code",
   "execution_count": 26,
   "id": "56906701",
   "metadata": {},
   "outputs": [],
   "source": [
    "#모의고사\n",
    "def solution(answer: list) -> list:\n",
    "    n1 = [1, 2, 3, 4, 5]\n",
    "    n2 = [2, 1, 2, 3, 2, 4, 2, 5]\n",
    "    n3 = [3, 3, 1, 1, 2, 2, 4, 4, 5, 5]\n",
    "    counts = [0, 0, 0]\n",
    "    who = []\n",
    "    \n",
    "    for i, number in enumerate(answer):\n",
    "        n1_count, n2_count, n3_count = 0, 0, 0\n",
    "        if number == n1[i % len(n1)]:\n",
    "            counts[0] += 1\n",
    "        if number == n2[i % len(n2)]:\n",
    "            counts[1] += 1\n",
    "        if number == n3[i % len(n3)]:\n",
    "            counts[2] += 1\n",
    "    for idx, count in enumerate(counts):\n",
    "        if count == max(counts):\n",
    "            who.append(idx + 1)\n",
    "    return who"
   ]
  },
  {
   "cell_type": "code",
   "execution_count": 32,
   "id": "a2c08c69",
   "metadata": {},
   "outputs": [
    {
     "ename": "SyntaxError",
     "evalue": "incomplete input (3602514627.py, line 3)",
     "output_type": "error",
     "traceback": [
      "\u001b[1;36m  Cell \u001b[1;32mIn[32], line 3\u001b[1;36m\u001b[0m\n\u001b[1;33m    \u001b[0m\n\u001b[1;37m    ^\u001b[0m\n\u001b[1;31mSyntaxError\u001b[0m\u001b[1;31m:\u001b[0m incomplete input\n"
     ]
    }
   ],
   "source": [
    "#괄호 회전하기\n",
    "def solution(s: str) -> int:\n",
    "    stack = []\n",
    "    for char in s:\n",
    "        if char == ']' or char == '}' or char == ')':\n",
    "            stack.append()\n",
    "        elif char == '[' and stack[-1]"
   ]
  },
  {
   "cell_type": "code",
   "execution_count": 34,
   "id": "a6062f72",
   "metadata": {},
   "outputs": [],
   "source": [
    "#n^2 배열 자르기\n",
    "def solution(n, left, right):\n",
    "    arr = []\n",
    "    for i in range(left, right+1): #초기 풀이는 n*n을 돌고 마지막 주석처리된 행을 리턴\n",
    "        a = i // n\n",
    "        b = i % n\n",
    "        if a <= b:\n",
    "            arr[i] = a + 1\n",
    "        else:\n",
    "            arr[i] = b + 1\n",
    "    return arr\n",
    "    #return arr[left:right_1] #슬라이싱 내부는 어떻게 구현되어있을까?"
   ]
  },
  {
   "cell_type": "code",
   "execution_count": 27,
   "id": "1349c880",
   "metadata": {},
   "outputs": [],
   "source": [
    "#다리를 지나는 트럭"
   ]
  },
  {
   "cell_type": "code",
   "execution_count": 28,
   "id": "6d89fd96",
   "metadata": {},
   "outputs": [],
   "source": [
    "#최고의 집합"
   ]
  },
  {
   "cell_type": "code",
   "execution_count": 30,
   "id": "c9b3436c",
   "metadata": {},
   "outputs": [],
   "source": [
    "#풍선 터트리기"
   ]
  },
  {
   "cell_type": "code",
   "execution_count": 31,
   "id": "c8e63040",
   "metadata": {},
   "outputs": [],
   "source": [
    "#문자열 내 마음대로 정렬하기"
   ]
  },
  {
   "cell_type": "code",
   "execution_count": 35,
   "id": "20eafecf",
   "metadata": {},
   "outputs": [],
   "source": [
    "#괄호 회전하기(re)\n",
    "def check(string): \n",
    "    stack = []\n",
    "    for i in string:\n",
    "        if len(stack) == 0:\n",
    "            stack.append(i)\n",
    "        else:\n",
    "            if i == ')' and stack[-1] == '(':\n",
    "                stack.pop()\n",
    "            elif i == ']' and stack[-1] == '[':\n",
    "                stack.pop()\n",
    "            elif i == '}' and stack[-1] == '{':\n",
    "                stack.pop()\n",
    "            else:\n",
    "                stack.append(i)\n",
    "    return 1 if len(stack) == 0 else 0\n",
    "\n",
    "def solution(string):  \n",
    "    count = 0 \n",
    "    for i in range(len(string)):\n",
    "        if check(string) == 1:\n",
    "            count += 1\n",
    "            s = s[1:] + s[:1] #회전loop을 따로 만드느냐 아니면 데큐에 담느냐의 문제\n",
    "    return count\n",
    "\n",
    "from collections import deque\n",
    "\n",
    "def solution2(string):\n",
    "    count = 0\n",
    "    stack = []\n",
    "    queue = deque(string)\n",
    "    flag = False\n",
    "\n",
    "    for i in range(len(queue)):\n",
    "        for str in queue:\n",
    "            if str == '(' or str == '[' or str == '{':\n",
    "                stack.append(str)\n",
    "            else:\n",
    "                if stack:\n",
    "                    if stack[-1] == '(' and str == ')':\n",
    "                        stack.pop()\n",
    "                        flag = True\n",
    "                    elif stack[-1] == '[' and str == ']':\n",
    "                        stack.pop()\n",
    "                        flag = True\n",
    "                    elif stack[-1] == '{' and str == '}':\n",
    "                        stack.pop()\n",
    "                        flag = True\n",
    "        if flag and not stack:\n",
    "            count += 1\n",
    "        stack = []\n",
    "        flag = False\n",
    "        queue.append(queue.popleft()) #회전\n",
    "    return count"
   ]
  },
  {
   "cell_type": "code",
   "execution_count": 36,
   "id": "399c41ec",
   "metadata": {},
   "outputs": [
    {
     "name": "stdout",
     "output_type": "stream",
     "text": [
      "[['yellowhat', 'green_turban'], ['bluesunglasses']]\n"
     ]
    }
   ],
   "source": [
    "from collections import defaultdict\n",
    "\n",
    "clothes=[[\"yellowhat\", \"headgear\"], [\"bluesunglasses\", \"eyewear\"], [\"green_turban\", \"headgear\"]]\n",
    "size=len(clothes)\n",
    "dic=defaultdict(list)\n",
    "\n",
    "for i in range(size):\n",
    "    dic[clothes[i][1]].append(clothes[i][0])\n",
    "\n",
    "print(list(dic.values()))\n",
    "\n",
    "#뭔데 ㅅㅂ 주석 좀 쓰고 다녀라"
   ]
  },
  {
   "cell_type": "code",
   "execution_count": 40,
   "id": "33a83211",
   "metadata": {},
   "outputs": [
    {
     "name": "stdout",
     "output_type": "stream",
     "text": [
      "영문 입력a\n"
     ]
    },
    {
     "ename": "ValueError",
     "evalue": "max() arg is an empty sequence",
     "output_type": "error",
     "traceback": [
      "\u001b[1;31m---------------------------------------------------------------------------\u001b[0m",
      "\u001b[1;31mValueError\u001b[0m                                Traceback (most recent call last)",
      "Cell \u001b[1;32mIn[40], line 20\u001b[0m\n\u001b[0;32m     17\u001b[0m     \u001b[38;5;28;01mreturn\u001b[39;00m \u001b[38;5;28mmax\u001b[39m(candidates, key\u001b[38;5;241m=\u001b[39m\u001b[38;5;28mlen\u001b[39m)\n\u001b[0;32m     19\u001b[0m string \u001b[38;5;241m=\u001b[39m \u001b[38;5;28minput\u001b[39m(\u001b[38;5;124m\"\u001b[39m\u001b[38;5;124m영문 입력\u001b[39m\u001b[38;5;124m\"\u001b[39m)\n\u001b[1;32m---> 20\u001b[0m \u001b[38;5;28mprint\u001b[39m(\u001b[43mLongestPalindromeSubstring\u001b[49m\u001b[43m(\u001b[49m\u001b[43mstring\u001b[49m\u001b[43m)\u001b[49m)\n",
      "Cell \u001b[1;32mIn[40], line 17\u001b[0m, in \u001b[0;36mLongestPalindromeSubstring\u001b[1;34m(string)\u001b[0m\n\u001b[0;32m     15\u001b[0m     \u001b[38;5;28;01melse\u001b[39;00m:\n\u001b[0;32m     16\u001b[0m         \u001b[38;5;28;01mpass\u001b[39;00m\n\u001b[1;32m---> 17\u001b[0m \u001b[38;5;28;01mreturn\u001b[39;00m \u001b[38;5;28;43mmax\u001b[39;49m\u001b[43m(\u001b[49m\u001b[43mcandidates\u001b[49m\u001b[43m,\u001b[49m\u001b[43m \u001b[49m\u001b[43mkey\u001b[49m\u001b[38;5;241;43m=\u001b[39;49m\u001b[38;5;28;43mlen\u001b[39;49m\u001b[43m)\u001b[49m\n",
      "\u001b[1;31mValueError\u001b[0m: max() arg is an empty sequence"
     ]
    }
   ],
   "source": [
    "#가장 긴 팰린드롬 망한 풀이\n",
    "def Palindrome(string: str) -> str:\n",
    "    if len(string) <= 1: return True\n",
    "    elif string[0] == string[-1]: return Palindrome(string[1:-1])\n",
    "    else: return False\n",
    "                \n",
    "def LongestPalindromeSubstring(string: str) -> str:\n",
    "    candidates = []\n",
    "    round_len = round(len(string) / 2)\n",
    "    for i in range(round_len):\n",
    "        last = len(string) - i + 1\n",
    "        curstr = string[i:last]\n",
    "        if Palindrome(curstr) == True:\n",
    "            candidates.append(curstr)\n",
    "        else:\n",
    "            pass\n",
    "    return max(candidates, key=len)\n",
    "\n",
    "string = input(\"영문 입력\")\n",
    "print(LongestPalindromeSubstring(string))"
   ]
  },
  {
   "cell_type": "code",
   "execution_count": null,
   "id": "7e6932ca",
   "metadata": {},
   "outputs": [],
   "source": []
  }
 ],
 "metadata": {
  "kernelspec": {
   "display_name": "Python 3 (ipykernel)",
   "language": "python",
   "name": "python3"
  },
  "language_info": {
   "codemirror_mode": {
    "name": "ipython",
    "version": 3
   },
   "file_extension": ".py",
   "mimetype": "text/x-python",
   "name": "python",
   "nbconvert_exporter": "python",
   "pygments_lexer": "ipython3",
   "version": "3.10.9"
  }
 },
 "nbformat": 4,
 "nbformat_minor": 5
}
