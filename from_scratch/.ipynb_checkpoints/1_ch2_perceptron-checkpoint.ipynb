{
 "cells": [
  {
   "cell_type": "markdown",
   "id": "27a3e7c5",
   "metadata": {},
   "source": [
    "- 퍼셉트론 알고리즘: 프랑크 로젠블라트가 1957년 고안한 알고리즘\n",
    "- 신경망의 기원이 되는 알고리즘\n",
    "\n",
    "# 2.1. 퍼셉트론이란?\n",
    "- 퍼셉트론(인공 뉴런, 단순 퍼셉트론): 다수의 신호를 입력으로 받아 하나의 신호(흐름)를 출력\n",
    "  - 신호가 흐른다(1), 신호가 흐르지 않는다(0)\n",
    "  - 입력 신호 $x_1, x_2$, 출력 신호 $y$, 가중치 $w_1, w_2$\n",
    "  - 입력 신호가 뉴런(노드)에 보내질 때 각각 고유한 가중치가 곱해짐. 뉴런에서 보내온 신호의 총합이 정해진 한계(임계값)를 넘어설 때 1을 출력(활성화)\n",
    "  - $y = \\begin{cases} 0(w_1 \\times x_1 + w_2 \\times x_2 \\leq \\theta) \\\\ w_1 \\times x_1 + w_2 \\times x_2 \\\\ \\end{cases}$\n",
    "  - 퍼셉트론"
   ]
  },
  {
   "cell_type": "code",
   "execution_count": null,
   "id": "0ad79081",
   "metadata": {},
   "outputs": [],
   "source": []
  }
 ],
 "metadata": {
  "kernelspec": {
   "display_name": "Python 3 (ipykernel)",
   "language": "python",
   "name": "python3"
  },
  "language_info": {
   "codemirror_mode": {
    "name": "ipython",
    "version": 3
   },
   "file_extension": ".py",
   "mimetype": "text/x-python",
   "name": "python",
   "nbconvert_exporter": "python",
   "pygments_lexer": "ipython3",
   "version": "3.11.5"
  }
 },
 "nbformat": 4,
 "nbformat_minor": 5
}
